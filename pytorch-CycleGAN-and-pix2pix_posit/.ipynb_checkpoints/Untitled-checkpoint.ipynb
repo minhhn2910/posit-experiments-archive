{
 "cells": [
  {
   "cell_type": "code",
   "execution_count": null,
   "metadata": {},
   "outputs": [],
   "source": [
    "import cv2\n",
    "import os \n",
    "image_path1 = 'results_ref/horse2zebra/test_latest/images/n02381460_1110_fake.png'\n",
    "image_path2 = 'results_test/horse2zebra/test_latest/images/n02381460_1110_fake.png'\n",
    "img1 = cv2.imread(image_path1)\n",
    "img2 = cv2.imread(image_path1)"
   ]
  }
 ],
 "metadata": {
  "kernelspec": {
   "display_name": "Python 3",
   "language": "python",
   "name": "python3"
  },
  "language_info": {
   "codemirror_mode": {
    "name": "ipython",
    "version": 3
   },
   "file_extension": ".py",
   "mimetype": "text/x-python",
   "name": "python",
   "nbconvert_exporter": "python",
   "pygments_lexer": "ipython3",
   "version": "3.7.4"
  }
 },
 "nbformat": 4,
 "nbformat_minor": 4
}
